{
  "nbformat": 4,
  "nbformat_minor": 0,
  "metadata": {
    "colab": {
      "name": "Untitled38.ipynb",
      "provenance": []
    },
    "kernelspec": {
      "name": "python3",
      "display_name": "Python 3"
    },
    "language_info": {
      "name": "python"
    }
  },
  "cells": [
    {
      "cell_type": "code",
      "source": [
        "A = [[5, 4, 3],  \n",
        "         [2, 4, 6],  \n",
        "         [4, 7, 9],  \n",
        "         [8, 1, 3]]  \n",
        "# Define an empty matrix of reverse order  \n",
        "transResult = [[0, 0, 0, 0],    \n",
        "                             [0, 0, 0, 0],  \n",
        "                             [0, 0, 0, 0]]  \n",
        "# Use nested for loop on matrix A  \n",
        "for a in range(len(A)):    \n",
        "   for b in range(len(A[0])):    \n",
        "          transResult[b][a] = A[a][b] # store transpose result on empty matrix          \n",
        "# Printing result in the output  \n",
        "print(\"The transpose of matrix A is: \")  \n",
        "for res in transResult:    \n",
        "   print(res)  "
      ],
      "metadata": {
        "id": "ZFVbw9ly8s8T"
      },
      "execution_count": null,
      "outputs": []
    }
  ]
}